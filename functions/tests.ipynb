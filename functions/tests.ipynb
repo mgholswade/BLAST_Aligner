{
 "cells": [
  {
   "cell_type": "code",
   "execution_count": null,
   "metadata": {},
   "outputs": [],
   "source": [
    "#Insert code to change directory and add functions.ipynb, shouldnt need any other imports\n",
    "import sys\n",
    "\n",
    "\n",
    "import functions as fc"
   ]
  },
  {
   "cell_type": "code",
   "execution_count": null,
   "metadata": {},
   "outputs": [],
   "source": [
    "#Test word_list()\n",
    "sequence = 'ABCDEFG'\n",
    "\n",
    "\n",
    "print(fc.word_list(3,sequence))"
   ]
  },
  {
   "cell_type": "code",
   "execution_count": null,
   "metadata": {},
   "outputs": [],
   "source": [
    "#Uncomment to test score_choose(), otherwise function below will take care of this without user input\n",
    "#fc.score_choose()\n",
    "\n",
    "\n",
    "path = '../data/{}.csv'.format('BLOSUM62')\n",
    "\n",
    "if fc.exists(path):\n",
    "    matrix = fc.pd.read_csv(path)"
   ]
  },
  {
   "cell_type": "code",
   "execution_count": null,
   "metadata": {},
   "outputs": [],
   "source": [
    "fc.word_score('NEF',matrix,5)"
   ]
  }
 ],
 "metadata": {
  "interpreter": {
   "hash": "916dbcbb3f70747c44a77c7bcd40155683ae19c65e1c03b4aa3499c5328201f1"
  },
  "kernelspec": {
   "display_name": "Python 3.8.10 64-bit",
   "language": "python",
   "name": "python3"
  },
  "language_info": {
   "codemirror_mode": {
    "name": "ipython",
    "version": 3
   },
   "file_extension": ".py",
   "mimetype": "text/x-python",
   "name": "python",
   "nbconvert_exporter": "python",
   "pygments_lexer": "ipython3",
   "version": "3.9.7"
  },
  "orig_nbformat": 4
 },
 "nbformat": 4,
 "nbformat_minor": 2
}
